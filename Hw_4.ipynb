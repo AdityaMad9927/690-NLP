{
  "nbformat": 4,
  "nbformat_minor": 0,
  "metadata": {
    "colab": {
      "provenance": []
    },
    "kernelspec": {
      "name": "python3",
      "display_name": "Python 3"
    },
    "language_info": {
      "name": "python"
    }
  },
  "cells": [
    {
      "cell_type": "code",
      "execution_count": 12,
      "metadata": {
        "id": "lHWNK-e1pH6f"
      },
      "outputs": [],
      "source": [
        "import torch\n",
        "import torch.nn as nn\n",
        "import torch.optim as optim\n",
        "from torch.utils.data import DataLoader, TensorDataset\n",
        "import pandas as pd\n",
        "import string\n",
        "import numpy as np\n",
        "from sklearn.model_selection import train_test_split\n",
        "import re\n",
        "import nltk\n",
        "from nltk.corpus import stopwords\n",
        "from nltk.tokenize import word_tokenize\n",
        "from nltk.stem import PorterStemmer\n",
        "from nltk.stem import WordNetLemmatizer\n",
        "from textblob import TextBlob\n",
        "# Load dataset from local path after download\n",
        "data = pd.read_csv('amazon_cells_labelled.txt', delimiter='\\t', header=None)\n",
        "data.columns = ['sentence', 'label']\n"
      ]
    },
    {
      "cell_type": "code",
      "source": [
        "# Separate reviews and labels\n",
        "reviews = data['sentence'].str.lower().str.translate(str.maketrans('', '', string.punctuation))\n",
        "labels = data['label'].values\n",
        "# Tokenize reviews\n",
        "tokenized_reviews = reviews.str.split()\n",
        "vocabulary = set(word for review in tokenized_reviews for word in review)\n",
        "# Create word-to-integer dictionary\n",
        "word2idx = {word: idx + 1 for idx, word in enumerate(vocabulary)}\n",
        "# Encode reviews using the word2idx\n",
        "encoded_reviews = [[word2idx[word] for word in review if word in word2idx] for review in tokenized_reviews]\n",
        "\n",
        "# Padding encoded reviews for uniform length\n",
        "max_len = max(len(review) for review in encoded_reviews)\n",
        "encoded_reviews = [review + [0] * (max_len - len(review)) for review in encoded_reviews]\n",
        "encoded_reviews = np.array(encoded_reviews)\n"
      ],
      "metadata": {
        "id": "43orvTd5uujD"
      },
      "execution_count": 6,
      "outputs": []
    },
    {
      "cell_type": "code",
      "source": [
        "class SentimentRNN(nn.Module):\n",
        "    def __init__(self, vocab_size, embed_dim, hidden_dim, output_dim, n_layers):\n",
        "        super(SentimentRNN, self).__init__()\n",
        "        self.embedding = nn.Embedding(vocab_size, embed_dim)\n",
        "        self.lstm = nn.LSTM(embed_dim, hidden_dim, num_layers=n_layers, batch_first=True)\n",
        "        self.fc = nn.Linear(hidden_dim, output_dim)\n",
        "        self.sigmoid = nn.Sigmoid()\n",
        "\n",
        "    def forward(self, x):\n",
        "        embedded = self.embedding(x)\n",
        "        lstm_out, _ = self.lstm(embedded)\n",
        "        out = self.fc(lstm_out[:, -1])\n",
        "        return self.sigmoid(out)\n",
        "\n",
        "# Define model parameters\n",
        "vocab_size = len(vocabulary) + 1\n",
        "embed_dim = 64\n",
        "hidden_dim = 128\n",
        "output_dim = 1\n",
        "n_layers = 3\n",
        "\n",
        "# Instantiate model\n",
        "model = SentimentRNN(vocab_size, embed_dim, hidden_dim, output_dim, n_layers)\n",
        "# Define loss function and optimizer\n",
        "criterion = nn.BCELoss()\n",
        "optimizer = optim.Adam(model.parameters(), lr=0.001)\n",
        "epochs = 10\n"
      ],
      "metadata": {
        "id": "61JyyoQUu4ZI"
      },
      "execution_count": 8,
      "outputs": []
    },
    {
      "cell_type": "code",
      "source": [
        "# Convert data to tensors\n",
        "X_train, X_test, y_train, y_test = train_test_split(encoded_reviews, labels, test_size=0.2, random_state=42)\n",
        "train_data = TensorDataset(torch.tensor(X_train), torch.tensor(y_train, dtype=torch.float32))\n",
        "train_loader = DataLoader(train_data, shuffle=True, batch_size=32)\n",
        "\n",
        "# Training loop\n",
        "for epoch in range(epochs):\n",
        "    total_loss = 0\n",
        "    correct = 0\n",
        "    for inputs, labels in train_loader:\n",
        "        optimizer.zero_grad()\n",
        "        output = model(inputs)\n",
        "        loss = criterion(output.squeeze(), labels)\n",
        "        loss.backward()\n",
        "        optimizer.step()\n",
        "\n",
        "        total_loss += loss.item()\n",
        "        predictions = torch.round(output.squeeze())\n",
        "        correct += torch.sum(predictions == labels).item()\n",
        "\n",
        "    accuracy = correct / len(train_data)\n",
        "    print(f'Epoch: {epoch+1}, Loss: {total_loss:.4f}, Accuracy: {accuracy:.4f}')\n"
      ],
      "metadata": {
        "colab": {
          "base_uri": "https://localhost:8080/"
        },
        "id": "_7ObZjoBu-b4",
        "outputId": "4ed534bc-1032-4075-a752-95e96981c332"
      },
      "execution_count": 9,
      "outputs": [
        {
          "output_type": "stream",
          "name": "stdout",
          "text": [
            "Epoch: 1, Loss: 17.3661, Accuracy: 0.4913\n",
            "Epoch: 2, Loss: 17.3537, Accuracy: 0.5088\n",
            "Epoch: 3, Loss: 17.3384, Accuracy: 0.4788\n",
            "Epoch: 4, Loss: 17.3311, Accuracy: 0.5088\n",
            "Epoch: 5, Loss: 17.3382, Accuracy: 0.4800\n",
            "Epoch: 6, Loss: 17.3309, Accuracy: 0.5088\n",
            "Epoch: 7, Loss: 17.3296, Accuracy: 0.5088\n",
            "Epoch: 8, Loss: 17.3674, Accuracy: 0.5088\n",
            "Epoch: 9, Loss: 17.3293, Accuracy: 0.5088\n",
            "Epoch: 10, Loss: 17.3280, Accuracy: 0.5088\n"
          ]
        }
      ]
    },
    {
      "cell_type": "code",
      "source": [
        "import matplotlib.pyplot as plt\n",
        "\n",
        "losses = []\n",
        "accuracies = []\n",
        "\n",
        "# Append losses and accuracies after each epoch during training and then plot them\n",
        "plt.figure(figsize=(10,4))\n",
        "plt.subplot(1,2,1)\n",
        "plt.plot(losses)\n",
        "plt.title('Loss Progression')\n",
        "\n",
        "plt.subplot(1,2,2)\n",
        "plt.plot(accuracies)\n",
        "plt.title('Accuracy Progression')\n",
        "plt.show()\n"
      ],
      "metadata": {
        "colab": {
          "base_uri": "https://localhost:8080/",
          "height": 391
        },
        "id": "MLDlraxQvA1f",
        "outputId": "ed0f246d-0894-45ef-ee17-12d6e7352da9"
      },
      "execution_count": 10,
      "outputs": [
        {
          "output_type": "display_data",
          "data": {
            "text/plain": [
              "<Figure size 1000x400 with 2 Axes>"
            ],
            "image/png": "[encoded data removed]"
          },
          "metadata": {}
        }
      ]
    },
    {
      "cell_type": "markdown",
      "source": [
        "###Exercise 2\n"
      ],
      "metadata": {
        "id": "0XIrm4UOvoqW"
      }
    },
    {
      "cell_type": "code",
      "source": [
        "# Given text\n",
        "sentence = \"\"\"The larger Broncos will be available with 35-inch off-road tires and will be able\n",
        "to drive through water nearly 3 feet, 10 inches deep. It has independent front suspension, unlike its main competitor, the Jeep Wrangler. Independent suspension, used\n",
        "on almost all modern passenger vehicles, generally provides a smoother ride and better on -\n",
        "road handling than a single solid axle. It still has a solid axle in the back though, like most\n",
        "pickup trucks, a design suited to hard use. Like the Wrangler, both the two- and four-door\n",
        "Bronco will have a removable roofs and doors. Buyers will be able to choose either a hard\n",
        "roof that can be removed in sections, a cloth top, or both. Unlike the Wrangler, though, the\n",
        "Bronco's doors will fit inside the vehicle after being removed. The Bronco will be available\n",
        "with a choice of either a 10-speed automatic or seven-speed manual transmission. (The\n",
        "manual transmission will have six gears for ordinary driving, plus a seventh for low speed\n",
        "off-road driving.) It will be powered by either a 270- horsepower 2.3-liter turbocharged 4-\n",
        "cylinder engine or a 310-horsepower 2.7-liter turbocharged V6. While all of the new Bronco\n",
        "SUVs are designed for hard off-road use, the Bronco Sport isn't quite as hard-core in its\n",
        "capabilities. It also has more convenience features than the more truck-like Bronco. While\n",
        "it's based on engineering that's similar to car-like crossover SUVs, Ford says that it's still\n",
        "intended for serious off-road use. Ford engineers boasted of the off-road testing the\n",
        "prototypes have been put through, including driving through deep sand, up steep inclines ,\n",
        "and crawling across boulder-strewn trails.\"\"\"\n"
      ],
      "metadata": {
        "id": "KSEuSO0Vvnwu"
      },
      "execution_count": 11,
      "outputs": []
    },
    {
      "cell_type": "markdown",
      "source": [
        "### 1. Replace special characters with empty spaces. You can use regex or any other method\n"
      ],
      "metadata": {
        "id": "VIp1Nv5lw_r7"
      }
    },
    {
      "cell_type": "code",
      "source": [
        "sentence = re.sub(r'[^\\w\\s]', ' ', sentence)"
      ],
      "metadata": {
        "id": "o7cuFcntv0fI"
      },
      "execution_count": 13,
      "outputs": []
    },
    {
      "cell_type": "markdown",
      "source": [
        "### 2. Remove multiple empty spaces and replace them with a single space\n"
      ],
      "metadata": {
        "id": "0aDHre4bxACs"
      }
    },
    {
      "cell_type": "code",
      "source": [
        "sentence = re.sub(r'\\s+', ' ', sentence)"
      ],
      "metadata": {
        "id": "o00ny1AHv4OZ"
      },
      "execution_count": 14,
      "outputs": []
    },
    {
      "cell_type": "markdown",
      "source": [
        "### 3. Remove any single character\n"
      ],
      "metadata": {
        "id": "kAaqJWQRxAlz"
      }
    },
    {
      "cell_type": "code",
      "source": [
        "sentence = ' '.join([word for word in sentence.split() if len(word) > 1])"
      ],
      "metadata": {
        "id": "itnrWfu6v4mx"
      },
      "execution_count": 15,
      "outputs": []
    },
    {
      "cell_type": "markdown",
      "source": [
        "### 4. Convert the text to all lowercase\n"
      ],
      "metadata": {
        "id": "tMYncHtVxA8w"
      }
    },
    {
      "cell_type": "code",
      "source": [
        "sentence = sentence.lower()"
      ],
      "metadata": {
        "id": "A6J73PQbv_WC"
      },
      "execution_count": 16,
      "outputs": []
    },
    {
      "cell_type": "markdown",
      "source": [
        "### 5. Split the text into individual words\n"
      ],
      "metadata": {
        "id": "yVpNoXHGxBlq"
      }
    },
    {
      "cell_type": "code",
      "source": [
        "nltk.download('punkt')\n",
        "words = word_tokenize(sentence)"
      ],
      "metadata": {
        "colab": {
          "base_uri": "https://localhost:8080/"
        },
        "id": "4V0V60kfwBZI",
        "outputId": "83dab894-a0cd-4bce-f139-4a6c0c9f270d"
      },
      "execution_count": 18,
      "outputs": [
        {
          "output_type": "stream",
          "name": "stderr",
          "text": [
            "[nltk_data] Downloading package punkt to /root/nltk_data...\n",
            "[nltk_data]   Unzipping tokenizers/punkt.zip.\n"
          ]
        }
      ]
    },
    {
      "cell_type": "markdown",
      "source": [
        "### 6. Remove stopwords"
      ],
      "metadata": {
        "id": "xYBPJ0u7xCCC"
      }
    },
    {
      "cell_type": "code",
      "source": [
        "nltk.download('stopwords')\n",
        "stop_words = set(stopwords.words('english'))\n",
        "filtered_words = [word for word in words if word not in stop_words]"
      ],
      "metadata": {
        "colab": {
          "base_uri": "https://localhost:8080/"
        },
        "id": "HlDPql3pwX_W",
        "outputId": "18807273-e10b-42d1-956f-db9ca3161e56"
      },
      "execution_count": 19,
      "outputs": [
        {
          "output_type": "stream",
          "name": "stderr",
          "text": [
            "[nltk_data] Downloading package stopwords to /root/nltk_data...\n",
            "[nltk_data]   Unzipping corpora/stopwords.zip.\n"
          ]
        }
      ]
    },
    {
      "cell_type": "markdown",
      "source": [
        "### 7. Tokenize, stem, and lemmatize the text\n"
      ],
      "metadata": {
        "id": "9CFctq0jxCUd"
      }
    },
    {
      "cell_type": "code",
      "source": [
        "import nltk\n",
        "nltk.download('wordnet')\n",
        "\n",
        "from nltk.tokenize import word_tokenize\n",
        "from nltk.stem import PorterStemmer, WordNetLemmatizer\n",
        "\n",
        "ps = PorterStemmer()\n",
        "lemmatizer = WordNetLemmatizer()\n",
        "\n",
        "tokens = word_tokenize(' '.join(filtered_words))\n",
        "stemmed_words = [ps.stem(word) for word in tokens]\n",
        "lemmatized_words = [lemmatizer.lemmatize(word) for word in tokens]"
      ],
      "metadata": {
        "colab": {
          "base_uri": "https://localhost:8080/"
        },
        "id": "s0ixOMB9wZ6K",
        "outputId": "0a92f5e0-e6cc-41b7-d575-32858022cbc8"
      },
      "execution_count": 22,
      "outputs": [
        {
          "output_type": "stream",
          "name": "stderr",
          "text": [
            "[nltk_data] Downloading package wordnet to /root/nltk_data...\n"
          ]
        }
      ]
    },
    {
      "cell_type": "markdown",
      "source": [
        "### 6. What is the overall sentiment and subjectivity of the text\n"
      ],
      "metadata": {
        "id": "hJwz0Opzxrf8"
      }
    },
    {
      "cell_type": "code",
      "source": [
        "from textblob import TextBlob\n",
        "\n",
        "blob = TextBlob(sentence)\n",
        "sentiment = blob.sentiment.polarity  # Returns sentiment: -1 (negative) to 1 (positive)\n",
        "subjectivity = blob.sentiment.subjectivity  # Returns subjectivity: 0 (objective) to 1 (subjective)\n"
      ],
      "metadata": {
        "id": "GIRl4gbIw2G_"
      },
      "execution_count": 24,
      "outputs": []
    }
  ]
}