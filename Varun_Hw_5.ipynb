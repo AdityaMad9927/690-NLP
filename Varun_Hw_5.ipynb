{
  "nbformat": 4,
  "nbformat_minor": 0,
  "metadata": {
    "colab": {
      "provenance": []
    },
    "kernelspec": {
      "name": "python3",
      "display_name": "Python 3"
    },
    "language_info": {
      "name": "python"
    }
  },
  "cells": [
    {
      "cell_type": "code",
      "execution_count": 1,
      "metadata": {
        "colab": {
          "base_uri": "https://localhost:8080/"
        },
        "id": "EuF26Up7Wg2a",
        "outputId": "6a9a2538-5304-44b5-b349-f7942eb5a736"
      },
      "outputs": [
        {
          "output_type": "stream",
          "name": "stderr",
          "text": [
            "[nltk_data] Downloading package punkt to /root/nltk_data...\n",
            "[nltk_data]   Unzipping tokenizers/punkt.zip.\n",
            "[nltk_data] Downloading package stopwords to /root/nltk_data...\n",
            "[nltk_data]   Unzipping corpora/stopwords.zip.\n"
          ]
        },
        {
          "output_type": "stream",
          "name": "stdout",
          "text": [
            "Summary:\n",
            "Given the fact that Boca Chica is much closer to communities than other major spaceports, and that three massive LNG export terminals are planned only 5 miles away, the groups express concern about the FAA’s objectivity when it comes to safety evaluations.Maria Galasso of Save RGV said, “The FAA has already demonstrated that they are willing to rubber-stamp SpaceX’s plans and look the other way when the company does not meet its commitments, how are we supposed to trust them when they say launching massive rockets just 5 miles away from South Padre Island and Port Isabel and the LNG export terminals is safe?” After months of delays and testing setbacks, a prototype of SpaceX’s Starship next-generation reusable launch vehicle made a brief “hop” flight Aug. 4 at the company’s South Texas test site.The Starship SN5 vehicle, powered by a single Raptor engine, lifted off shortly before 8 p.m. Eastern at SpaceX’s site in Boca Chica, Texas. It urged the FAA to “develop a new or supplemental Environmental Impact Statement for SpaceX’s current and planned actions at their Boca Chica site.” The letter noted that the company’s activities are “significantly different and greater in scope than the project the FAA authorized in its 2014 Record of Decision (ROD), and these actions are having significantly greater human and environmental impacts.” In its July 17 response, the FAA said SpaceX has proposed operation of the Starship/Super Heavy launch vehicle at Boca Chica, but to do so the company “must obtain an experimental permit or launch license from the FAA Office of Commercial Space Transportation.” The issuance of such permits or licenses constitutes a “major federal action under the National Environmental Policy Act (NEPA) and requires a new environmental review beyond the 2014 EIS,” according to the FAA. “My new thing is management by rhyming: If the schedule is long, it’s wrong; if it’s tight, it’s right.”Most of the presentation focused on technical details, the benefits of stainless steel vs. carbon composites (“I’m in love with steel,” he said at one point), orbital mechanics, reentry vectors (“It’ll look totally nuts to see this thing land.”), the importance of orbital refueling and a future where humanity is “out among the stars.”“The critical breakthrough that’s needed for us to become a spacefaring civilization is to make space travel like air travel,” Musk said. It was a place so desolate and tranquil she recalled the UPS delivery man once saying, “I didn’t know anyone lived out here.”“We came across this place and never left,” she said.The letter from SpaceX, then, came as a shock, one that she said felt like “a hostile takeover.”\n",
            "“The thought of a company that’s going to shoot a rocket to the moon or Mars, that’s exciting, that’s history,” she said. Musk, in a presentation here Saturday, said his goal of building a “rapidly reusable spacecraft” here would lead to the fulfillment of his ultimate goal of creating “a city on Mars.” But first, he’ll need to pull off another improbable feat, building a private, commercial spaceport here, in what the top local elected official called a “mind-boggling” juxtaposition: SpaceX, one of the hottest companies in the world, led by a Silicon Valley celebrity with nearly 29 million Twitter followers, building a rocket in a border town where nearly a third of the residents live below the poverty line.“I never in a million years would have imagined it,” said Cameron County Judge Eddie Treviño Jr. Five years ago, SpaceX started building a launchpad here, hauling in dirt by the ton, that would allow the company a measure of freedom without the restraints that come with shooting rockets off from government sites, such as Cape Canaveral or Vandenberg Air Force Base in California, where several other companies operate.\n",
            "\n",
            "Original Length: 20204 words\n",
            "Summary Length: 625 words\n"
          ]
        }
      ],
      "source": [
        "import nltk\n",
        "from nltk.corpus import stopwords\n",
        "from nltk.tokenize import word_tokenize, sent_tokenize\n",
        "import string\n",
        "from heapq import nlargest\n",
        "\n",
        "# Load the text\n",
        "with open('spaceX_DP.txt', 'r') as file:\n",
        "    text = file.read()\n",
        "\n",
        "# Preprocess text\n",
        "nltk.download('punkt')\n",
        "nltk.download('stopwords')\n",
        "\n",
        "stop_words = set(stopwords.words('english'))\n",
        "punctuation = set(string.punctuation)\n",
        "\n",
        "def preprocess(text):\n",
        "    words = word_tokenize(text.lower())\n",
        "    words = [word for word in words if word not in stop_words and word not in punctuation]\n",
        "    return words\n",
        "\n",
        "words = preprocess(text)\n",
        "\n",
        "# Build word frequency\n",
        "word_frequencies = nltk.FreqDist(words)\n",
        "maximum_frequency = max(word_frequencies.values())\n",
        "for word in word_frequencies:\n",
        "    word_frequencies[word] /= maximum_frequency\n",
        "\n",
        "# Tokenize sentences and score them\n",
        "sentences = sent_tokenize(text)\n",
        "sentence_scores = {}\n",
        "\n",
        "for sent in sentences:\n",
        "    sentence_words = preprocess(sent)\n",
        "    score = sum(word_frequencies.get(word, 0) for word in sentence_words)\n",
        "    sentence_scores[sent] = score\n",
        "\n",
        "#Get summary\n",
        "summary_sentences = nlargest(5, sentence_scores, key=sentence_scores.get)\n",
        "summary = ' '.join(summary_sentences)\n",
        "\n",
        "#Output summary and compare lengths\n",
        "original_length = len(text.split())\n",
        "summary_length = len(summary.split())\n",
        "\n",
        "print(f\"Summary:\\n{summary}\")\n",
        "print(f\"\\nOriginal Length: {original_length} words\")\n",
        "print(f\"Summary Length: {summary_length} words\")\n"
      ]
    },
    {
      "cell_type": "code",
      "source": [
        "!pip install vaderSentiment"
      ],
      "metadata": {
        "colab": {
          "base_uri": "https://localhost:8080/"
        },
        "id": "Oc4ok75uY-Qx",
        "outputId": "37d87ac8-5350-4924-8eaf-e5777718f829"
      },
      "execution_count": 3,
      "outputs": [
        {
          "output_type": "stream",
          "name": "stdout",
          "text": [
            "Collecting vaderSentiment\n",
            "  Downloading vaderSentiment-3.3.2-py2.py3-none-any.whl.metadata (572 bytes)\n",
            "Requirement already satisfied: requests in /usr/local/lib/python3.10/dist-packages (from vaderSentiment) (2.32.3)\n",
            "Requirement already satisfied: charset-normalizer<4,>=2 in /usr/local/lib/python3.10/dist-packages (from requests->vaderSentiment) (3.3.2)\n",
            "Requirement already satisfied: idna<4,>=2.5 in /usr/local/lib/python3.10/dist-packages (from requests->vaderSentiment) (3.10)\n",
            "Requirement already satisfied: urllib3<3,>=1.21.1 in /usr/local/lib/python3.10/dist-packages (from requests->vaderSentiment) (2.2.3)\n",
            "Requirement already satisfied: certifi>=2017.4.17 in /usr/local/lib/python3.10/dist-packages (from requests->vaderSentiment) (2024.8.30)\n",
            "Downloading vaderSentiment-3.3.2-py2.py3-none-any.whl (125 kB)\n",
            "\u001b[2K   \u001b[90m━━━━━━━━━━━━━━━━━━━━━━━━━━━━━━━━━━━━━━━━\u001b[0m \u001b[32m126.0/126.0 kB\u001b[0m \u001b[31m2.7 MB/s\u001b[0m eta \u001b[36m0:00:00\u001b[0m\n",
            "\u001b[?25hInstalling collected packages: vaderSentiment\n",
            "Successfully installed vaderSentiment-3.3.2\n"
          ]
        }
      ]
    },
    {
      "cell_type": "code",
      "source": [
        "from vaderSentiment.vaderSentiment import SentimentIntensityAnalyzer\n",
        "\n",
        "# Load the text for sentiment analysis (from previous exercise)\n",
        "with open('SpaceX.txt', 'r') as file:\n",
        "    text = file.read()\n",
        "\n",
        "# Step 1: Initialize the sentiment analyzer\n",
        "analyzer = SentimentIntensityAnalyzer()\n",
        "\n",
        "# Step 2: Get sentiment scores\n",
        "sentiment = analyzer.polarity_scores(text)\n",
        "\n",
        "# Step 3: Output sentiment results\n",
        "print(f\"Compound: {sentiment['compound']}\")\n",
        "print(f\"Positive: {sentiment['pos']}\")\n",
        "print(f\"Neutral: {sentiment['neu']}\")\n",
        "print(f\"Negative: {sentiment['neg']}\")\n"
      ],
      "metadata": {
        "colab": {
          "base_uri": "https://localhost:8080/"
        },
        "id": "YwPfMWPAYsE-",
        "outputId": "98e44add-e141-455c-f145-42baaa5763f3"
      },
      "execution_count": 5,
      "outputs": [
        {
          "output_type": "stream",
          "name": "stdout",
          "text": [
            "Compound: 0.5999\n",
            "Positive: 0.076\n",
            "Neutral: 0.863\n",
            "Negative: 0.061\n"
          ]
        }
      ]
    },
    {
      "cell_type": "markdown",
      "source": [
        "###Whether the text is more subjective or objective"
      ],
      "metadata": {
        "id": "py8zdxS8ZPYA"
      }
    },
    {
      "cell_type": "code",
      "source": [
        "from textblob import TextBlob\n",
        "\n",
        "#Analyze subjectivity\n",
        "blob = TextBlob(text)\n",
        "subjectivity = blob.sentiment.subjectivity\n",
        "\n",
        "\n",
        "print(f\"Subjectivity: {subjectivity}\")\n",
        "if subjectivity > 0.5:\n",
        "    print(\"The text is more subjective.\")\n",
        "else:\n",
        "    print(\"The text is more objective.\")\n"
      ],
      "metadata": {
        "colab": {
          "base_uri": "https://localhost:8080/"
        },
        "id": "BhvkeQr8ZKf0",
        "outputId": "0d27a907-9432-410a-ace3-6928fa2ace7c"
      },
      "execution_count": 6,
      "outputs": [
        {
          "output_type": "stream",
          "name": "stdout",
          "text": [
            "Subjectivity: 0.30897435897435904\n",
            "The text is more objective.\n"
          ]
        }
      ]
    }
  ]
}