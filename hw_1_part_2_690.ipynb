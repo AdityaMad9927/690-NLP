{
  "nbformat": 4,
  "nbformat_minor": 0,
  "metadata": {
    "colab": {
      "provenance": []
    },
    "kernelspec": {
      "name": "python3",
      "display_name": "Python 3"
    },
    "language_info": {
      "name": "python"
    }
  },
  "cells": [
    {
      "cell_type": "code",
      "source": [
        "pip install deep-translator"
      ],
      "metadata": {
        "colab": {
          "base_uri": "https://localhost:8080/"
        },
        "id": "qJ3NVuYOxBmI",
        "outputId": "b1b9cab0-a158-4ac8-80eb-a5ef36ca1080"
      },
      "execution_count": 8,
      "outputs": [
        {
          "output_type": "stream",
          "name": "stdout",
          "text": [
            "Collecting deep-translator\n",
            "  Downloading deep_translator-1.11.4-py3-none-any.whl.metadata (30 kB)\n",
            "Requirement already satisfied: beautifulsoup4<5.0.0,>=4.9.1 in /usr/local/lib/python3.10/dist-packages (from deep-translator) (4.12.3)\n",
            "Requirement already satisfied: requests<3.0.0,>=2.23.0 in /usr/local/lib/python3.10/dist-packages (from deep-translator) (2.32.3)\n",
            "Requirement already satisfied: soupsieve>1.2 in /usr/local/lib/python3.10/dist-packages (from beautifulsoup4<5.0.0,>=4.9.1->deep-translator) (2.6)\n",
            "Requirement already satisfied: charset-normalizer<4,>=2 in /usr/local/lib/python3.10/dist-packages (from requests<3.0.0,>=2.23.0->deep-translator) (3.3.2)\n",
            "Requirement already satisfied: idna<4,>=2.5 in /usr/local/lib/python3.10/dist-packages (from requests<3.0.0,>=2.23.0->deep-translator) (3.8)\n",
            "Requirement already satisfied: urllib3<3,>=1.21.1 in /usr/local/lib/python3.10/dist-packages (from requests<3.0.0,>=2.23.0->deep-translator) (2.0.7)\n",
            "Requirement already satisfied: certifi>=2017.4.17 in /usr/local/lib/python3.10/dist-packages (from requests<3.0.0,>=2.23.0->deep-translator) (2024.8.30)\n",
            "Downloading deep_translator-1.11.4-py3-none-any.whl (42 kB)\n",
            "\u001b[2K   \u001b[90m━━━━━━━━━━━━━━━━━━━━━━━━━━━━━━━━━━━━━━━━\u001b[0m \u001b[32m42.3/42.3 kB\u001b[0m \u001b[31m754.6 kB/s\u001b[0m eta \u001b[36m0:00:00\u001b[0m\n",
            "\u001b[?25hInstalling collected packages: deep-translator\n",
            "Successfully installed deep-translator-1.11.4\n"
          ]
        }
      ]
    },
    {
      "cell_type": "code",
      "source": [
        "from textblob import TextBlob\n",
        "from deep_translator import GoogleTranslator\n",
        "\n",
        "# Define the sentence using TextBlob\n",
        "sentence = \"Who knew translation could be fun\"\n",
        "\n",
        "# Initialize GoogleTranslator from deep_translator\n",
        "translator_fr = GoogleTranslator(source='auto', target='fr')\n",
        "translator_zh = GoogleTranslator(source='auto', target='zh-CN')\n",
        "translator_hi = GoogleTranslator(source='auto', target='hi')\n",
        "\n",
        "# Translate the sentence using deep_translator GoogleTranslate\n",
        "french_translation = translator_fr.translate(sentence)\n",
        "mandarin_translation = translator_zh.translate(sentence)\n",
        "hindi_translation = translator_hi.translate(sentence)\n",
        "\n",
        "# Output the translations\n",
        "print(\"French translation:\", french_translation)\n",
        "print(\"Mandarin translation:\", mandarin_translation)\n",
        "print(\"Hindi translation:\", hindi_translation)"
      ],
      "metadata": {
        "colab": {
          "base_uri": "https://localhost:8080/"
        },
        "id": "RAW-MjmIxtkc",
        "outputId": "c34ce9f6-ab24-402b-dad7-7633a55f3cc5"
      },
      "execution_count": 12,
      "outputs": [
        {
          "output_type": "stream",
          "name": "stdout",
          "text": [
            "French translation: Qui aurait cru que la traduction pouvait être amusante ?\n",
            "Mandarin translation: 谁知道翻译也可以很有趣\n",
            "Hindi translation: कौन जानता था कि अनुवाद मज़ेदार हो सकता है\n"
          ]
        }
      ]
    }
  ]
}